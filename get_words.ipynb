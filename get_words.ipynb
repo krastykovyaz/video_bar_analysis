{
 "cells": [
  {
   "cell_type": "code",
   "execution_count": 1,
   "id": "7823d653-cb68-4c3d-9816-e12f72f636a3",
   "metadata": {},
   "outputs": [],
   "source": [
    "import pandas as pd"
   ]
  },
  {
   "cell_type": "code",
   "execution_count": 21,
   "id": "0e927343-76b2-4a29-9d50-1da4838f0a70",
   "metadata": {},
   "outputs": [],
   "source": [
    "texts = []\n",
    "with open('logs_.csv', 'r') as f:\n",
    "    for line in f:\n",
    "        try:\n",
    "            texts.append(line.split('|')[-1])\n",
    "        except:\n",
    "            pass\n",
    "with open('logs.csv', 'r') as f:\n",
    "    for line in f:\n",
    "        try:\n",
    "            texts.append(line.split('|')[-1])\n",
    "        except:\n",
    "            pass"
   ]
  },
  {
   "cell_type": "code",
   "execution_count": 22,
   "id": "f940eced-f996-4d47-b1d3-d090a746e59f",
   "metadata": {},
   "outputs": [],
   "source": [
    "texts = [t for t in texts if len(t) > len('krasty_kovyaz')]"
   ]
  },
  {
   "cell_type": "code",
   "execution_count": 24,
   "id": "110e561b-a217-4931-bf97-aa7d02fe8972",
   "metadata": {},
   "outputs": [],
   "source": [
    "with open('wordscloud_out.txt', 'w+') as f:\n",
    "    f.write(' '.join(texts))"
   ]
  },
  {
   "cell_type": "code",
   "execution_count": 23,
   "id": "aef967dd-b519-42a6-9f41-af34348c2202",
   "metadata": {},
   "outputs": [],
   "source": [
    "pd.DataFrame(texts).to_csv('wordscloud_out.csv',index=False)"
   ]
  },
  {
   "cell_type": "code",
   "execution_count": null,
   "id": "907e3575-e1e5-4ee2-8b1f-3494a568f4bf",
   "metadata": {},
   "outputs": [],
   "source": []
  },
  {
   "cell_type": "code",
   "execution_count": null,
   "id": "09ef7857-dec8-46fe-99e0-6f4db773505e",
   "metadata": {},
   "outputs": [],
   "source": []
  },
  {
   "cell_type": "code",
   "execution_count": null,
   "id": "1c1ffda4-8868-46c1-a366-726adcdec4f3",
   "metadata": {},
   "outputs": [],
   "source": []
  },
  {
   "cell_type": "code",
   "execution_count": null,
   "id": "1ae11127-8cc6-4071-b142-f39652295b8f",
   "metadata": {},
   "outputs": [],
   "source": []
  },
  {
   "cell_type": "code",
   "execution_count": null,
   "id": "a45332c5-d6c7-4725-9fe7-172990d01ac8",
   "metadata": {},
   "outputs": [],
   "source": []
  },
  {
   "cell_type": "code",
   "execution_count": null,
   "id": "68efd569-91ae-420a-b664-ad5b6edb7059",
   "metadata": {},
   "outputs": [],
   "source": []
  },
  {
   "cell_type": "code",
   "execution_count": null,
   "id": "dfe9dd0f-9a89-4556-bf97-bc55223f12e0",
   "metadata": {},
   "outputs": [],
   "source": []
  },
  {
   "cell_type": "code",
   "execution_count": null,
   "id": "60110b34-d475-422b-8775-8d76fb2222ca",
   "metadata": {},
   "outputs": [],
   "source": []
  },
  {
   "cell_type": "code",
   "execution_count": null,
   "id": "caf924bb-abf3-4031-91aa-609ce82d87bf",
   "metadata": {},
   "outputs": [],
   "source": []
  },
  {
   "cell_type": "code",
   "execution_count": null,
   "id": "ee7b6a85-bc81-4298-8af9-a7227b32cdb7",
   "metadata": {},
   "outputs": [],
   "source": []
  },
  {
   "cell_type": "code",
   "execution_count": null,
   "id": "5e8f494f-18bf-4063-ad09-2adf49e547af",
   "metadata": {},
   "outputs": [],
   "source": [
    "\n"
   ]
  }
 ],
 "metadata": {
  "kernelspec": {
   "display_name": "Python 3 (ipykernel)",
   "language": "python",
   "name": "python3"
  },
  "language_info": {
   "codemirror_mode": {
    "name": "ipython",
    "version": 3
   },
   "file_extension": ".py",
   "mimetype": "text/x-python",
   "name": "python",
   "nbconvert_exporter": "python",
   "pygments_lexer": "ipython3",
   "version": "3.9.1"
  }
 },
 "nbformat": 4,
 "nbformat_minor": 5
}
